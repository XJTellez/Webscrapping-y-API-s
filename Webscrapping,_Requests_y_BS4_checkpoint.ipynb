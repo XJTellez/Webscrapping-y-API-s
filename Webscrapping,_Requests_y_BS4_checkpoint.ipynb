{
  "cells": [
    {
      "cell_type": "markdown",
      "metadata": {
        "id": "view-in-github",
        "colab_type": "text"
      },
      "source": [
        "<a href=\"https://colab.research.google.com/github/XJTellez/Webscrapping-y-API-s/blob/main/Webscrapping%2C_Requests_y_BS4_checkpoint.ipynb\" target=\"_parent\"><img src=\"https://colab.research.google.com/assets/colab-badge.svg\" alt=\"Open In Colab\"/></a>"
      ]
    },
    {
      "cell_type": "markdown",
      "metadata": {
        "id": "l88TuNo_4Fd4"
      },
      "source": [
        "# Semana 4\n",
        "\n",
        "<img src=\"img/dataprog.png\"/>\n",
        "\n",
        "\n",
        "# Objetivos\n",
        "- Conocer un poco acerca del proceso de obtención y almacenamiento de datos.\n",
        "- Ser capaces navegar los tags en un sitio de internet.\n",
        "- Aprenda a utilizar la librería requests y beautifulsoup4 para obtener información de estos sitios.\n",
        "- Conozca lo que es una API y sea capaz de utilizar API's básicas.\n",
        "- Saber como crear un bot (araña) para automatizar de mejor forma el scrappeo de la info"
      ]
    },
    {
      "cell_type": "markdown",
      "metadata": {
        "id": "c1jalzMh4Fd_"
      },
      "source": [
        "# Los Datos en la Ciencia de Datos\n",
        "Durante las semanas anteriores han visto como utilizar Python y algunos de sus paquetes para manipular información, han manejado distintos tipos de variables, utilizado logica para estructurar sus progamas, realizar ciclos para realizar tareas repetitivas e inclusive han trabajado con Numpy y Pandas para manejar objetos matemáticos y fuentes de datos de una forma sencilla. Podrá parecer que no hemos visto mucho ya que no nos hemos adentrado en la parte estadística de la ciencia de datos, no hemos entrado a algoritmos de aprendizaje supervisado, no supervisado, redes neuronales o estadística; sin embargo, estas herramientas que hemos visto las últimas semanas las vamos a concretar para poder analizar los datos y agregar valor al proceso de la ciencia de datos.\n",
        "\n",
        "Hay un dicho muy popular en muchas áreas y suele cambiar un poco, pero el sentimiento general es \"Si metes basura, recibes basura\" y esto sigue siendo cierto en la ciencia de datos. Al momento de querer emprender un proyecto en la ciencia de datos es muy probable que vayamos a tender a ponerle mayor atención al área en donde nos especializamos y eso es perfectamente normal y natural, sin embargo es importante recordar que los errores se propagan. Viendo el diagrama anterior podemos concluir que así como un error de estrategia puede propagarse y terminar causando errores más a futuro, un error en los datos puede acabar con un proyecto y llevarlo al fracaso o a una complicación no deseada. En esta semana nos enfocaremos en herramientas utilizadas para la recolección, consulta y estructura de datos que nos permitrán acceder y combinar fuentes de información con total libertad utilizando Python.\n",
        "\n",
        "\n",
        "## ¿Que es un dato?\n",
        "\n",
        "Un dato es una pieza de información que describe algo, a veces cuando pensamos en datos pensamos en números debido a que mucha información que vemos viene en un formato numérico. Ej: Porcentaje de votos, ganancias, años de experiencia, unos y ceros en computación, edad, precio, etc; sin embargo, un número por si mismo no es información. Si alguien grita \"42!\" no está dando un dato por que los datos tienen que estar asociados a un objeto o situación para que en realidad puedan ser considerados como tal, asimismo, podemos tener datos no númericos o categóricos. Ej: Color de cabello, encuestas de satisfacción, tipo de producto, país de procedencia, nombre, etc. \n",
        "\n",
        "Puede parecer algo trivial establecer la definición de un dato, podemos pensar que es algo un poco ridículo ya que somos capaces de distinguir entre lo que es un dato y lo que no es, sin embargo la acción de asociar a un adjetivo o número a un objeto es el primer paso que realizamos no solo en el proceso de análisis de datos sino también en el proceso de la construcción y diseño de un esquema de almacenamiento de datos. Ahora bien, mencioné que un dato es una pieza de información que describe a cierto objeto. Por ahora vamos a intentar visualizar un ejemplo en donde esto sea de interés, imaginemos que queremos identificar a un pasajero de un avión. ¿Que datos podríamos utilizar para identificar a este pasajero?\n",
        "\n",
        "La verdad es que hay una gran cantidad de información que podemos utilizar para caracterizar al pasajero: El aeropuerto, la ruta que va a seguir, avión, aerolínea, asiento, nacionalidad, clase de abordaje, nombre, edad, cantidad de equipaje, entre otra. A diferencia de lo que se mencionó anteriormente, ahora tenemos una cantidad mucho mayor de datos que nos permiten describir de gran manera la situación en la cual se encuentra nuestro pasajero, a esta colección de datos se le conoce como una observación y nos permite identificar un individuo u objeto único dentro de un grupo. \n",
        "\n",
        "Ej: ¿Cuantos pasajeros hay en aeropuertos en el mundo?\n",
        "¿Cuantos pasajeros hay en el aeropuerto de la ciudad de México?\n",
        "¿Cuantos pasajeros van a volar en un vuelo Aeroméxico?\n",
        "¿Cuantos van a volar la ruta Mexico-Mty?\n",
        "¿Cuantos van a abordar el avión con código EZLKJ28?\n",
        "¿Cuantos van a volar el día 9 de septiembre del 2020 en la tarde?\n",
        "¿Cuantos pasajeros llamados Miguel están en el vuelo?\n",
        "¿Cuantos están sentados en el asiento 18D?\n",
        "\n",
        "Si repondemos esas preguntas en orden es muy probable que logremos identificar a un pasajero único, esto es algo deseable ya que esto nos diria que somos capaces de identificar a individuos utilizando solamente estas propiedades. ¿Que problemas podría haber si hubiera dos observaciones con los mismos valores en todos los campos? En una situación normal puede que no hubiera problema... pero que sucede cuando tenemos que tomar acción y no podemos identificar al individuo o que tal si queremos dar una devolución, inclusive en criminología tener a 2 sospechosos con las mismas características puede dificultar mucho el proceso de toma de decisiones. Para evitar ese tipo de problemas podemos proponer la creación de un modelo de datos en nuestra organización que permita la fácil identificación y suficiente descripción de objetos de nuestro interés.\n",
        "\n",
        "## Data modeling\n",
        "Un modelo de datos es una representación (generalmente gráfica) en la cual se puede visualizar la estructura de una base de datos, aqui se muestran las relaciones entre distintas entidades, características intrínsicas y compartidas entre estas. Cuando queremos almacenar datos es importante decidir la información que vamos a recolectar pero también es fundamental saber como esa información se relaciona entre si; podemos ver al modelo de datos como el esqueleto de nuestra base de datospor lo que debe de ser rígido y robusto para evitar errores y conflictos en la medida de lo posible. Cabe recordar que conflicto no se refiere solamente a las situaciones mencionadas anteriormente (aunque definitivamente es algo importante de preveer), sino también problemas en la lectura de los datos para garantizar una fuente confiable de datos. Por esta razón hay que seguir un proceso cuando vayamos a querer crear una base de datos para asegurarnos de que la base de datos esté orientada a las necesidades de la empresa. El proceso más seguido para la creación de una base de datos es seguir el orden de (Conceptual, Logical y Physical) el cual nos permite organizar nuestros datos casi independientemente del software que utilizemos para guardar los datos. \n",
        "\n",
        "Antes de entrar a detalle a lo que es cada modelo es importante estar seguros de que entendamos lo que vamos a ver en las imágenes. En el ejemplo que vimos del aeropuerto logramos definir con claridad a un pasajero utilizando una combinación de información del pasajero, información del avión e información del aeropuerto; es decir, puede ser que necesitemos información externa al individuo para identificarlo por lo que es importante conocer el concepto de una entidad.\n",
        "\n",
        "Entidad: Una persona, objeto, lugar o cosa de la cual se va a recolectar y almacenar información de propiedades pre-establecidas.\n",
        "\n",
        "Propiedad: Información que se almacena de una entidad para describir una parte de ella.\n",
        "\n",
        "Regresando nuevamente al ejemplo del pasajero, vemos que las 3 entidades serían (El aeropuerto, el avión y el pasajero). Cada uno de ellos tiene sus propiedades únicas o heredadas de otras entidades que nos ayudan a identificarlo.\n",
        "\n",
        "<img src=\"img/Datamod.png\"/>\n",
        "\n",
        "## Modelo Conceptual\n",
        "El modelo conceptual es el modelo de datos menos técnico que vamos a ver y es el primero que se debería de realizar, no es solo por cuestion de seguir el proceso sino que ayuda mucho a crear una conexión entre el contexto técnico y empresarial. Este modelo es en esencia un mapa mostrando las relaciones entre los distintos actores de nuestra organización, no se entra a detalle en las propiedades de cada entidad por que la prioridad es la identificación de actores, objetos y definir las relaciones que pueden tener (causa/efecto, posesión, asignación, transporte, etc.) Este modelo tiene como ventaja el hecho de que permite al personal encargado del diseño de la base de datos o al equipo de analíca tener una imagen clara del funcionamiento del negocio e identificar puntos de interés para analizar. Este diagrama puede llegar a ser opcional debido a que muchas veces en la estrategia ya se tiene un diagrama similar que puede ser utilziado para la descripción del negocio antes de proponer el proyecto.\n",
        "\n",
        "En este ejemplo contamos con 3 entidades: El estudiante, cursos e inscripciones. Tener a estudiante y curso como entidades hace sentido por que podemos ver como cada uno puede tener propiedades pero visualizar a la inscripción como una entidad puede ser un poco más difícil; digo, al final del día podriamos decir que la inscripción es una propiedad del alumno y podríamos diseñarlo así. ¿Por que creen que sería necesario crear una entidad para la inscripciones? \n",
        "\n",
        "## Modelo Lógico\n",
        "\n",
        "Explorando al modelo lógico podemos notar sus diferencias con facilidad, la estructura sigue siendo la misma pero ahora contamos con un mayor desglose de las propiedades de cada entidad. Ahora el estudiante cuenta con propiedades como un nombre, correo y dirección, el curso tiene su nombre, profesor y duración e inclusive las inscripciones tienen sus propiedades. ¿Pueden notar otra diferencia? Algunas propiedades se encuentran remarcadas y algunas vienen con texto entre paréntesis, esto no es ningún accidente y de hecho es parte del diseño de un modelo lógico donde consideramos más a fondo las relaciones entre las distintas entidades.\n",
        "\n",
        "¿Cuáles son las propiedades que están marcadas? Son los números de identificación que podriamos asociarlos a matrículas.\n",
        "\n",
        "¿Que tienen de especial estas propiedades? Son un identificador único de la observación, regresando al ejemplo del aeropuerto a lo mejor hubieramos encontrado al usuario con menos preguntas si hubiera una forma de identificarlo con un ID. En el contexto de bases de datos, estas propiedades se conocen como llaves (primarias o foraneas) ya que ayudan a definir a una observación libre de ambigüedad sin necesitar de otras propiedades para identificarlo.\n",
        "\n",
        "Llave primaria: (una propiedad de la misma entidad que identifica a las observaciones entre si).\n",
        "Llave foranea: (una propiedad heredada de otra entidad que identifica a las observaciones entre si).\n",
        "Llave compuesta: (varias propiedades que pueden venir de diversas fuentes que identifican a las observaciones entre si).\n",
        "\n",
        "Con esto en mente es un poco más fácil identificar lo que son tanto el StudentID como el CourseID, con esto ya tenemos un módelo mucho más complejo que nos permite conocer la relación y las propiedades de interés dentro de nuestro esquema.\n",
        "\n",
        "### Modelo Físico\n",
        "\n",
        "El último modelo que se suele realizar antes de empezar a entrar al diseño del servidor y la creación del pipeline de datos, por fortuna si ya se tiene el modelo lógico el salto no es tan radical como si intentaramos hacer el modelo físico desde cero. Consultando la imagen que hemos estado utilizando vemos los cambios entre el modelo lógico y el físico: Para comenzar, las propiedades en el modelo físico se encuentran en el nivel más bajo de abstracción (miren como la dirección fue dividida en un gran número de componentes), al seguir viendo también notamos que cada una de las propiedades tiene asociada un tipo de datos para establecer como va a ser almacenado. \n",
        "\n",
        "¿Por que es importante establecer esto? \n",
        "\n",
        "Por que de lo contrario pueden llegar a haber muchas inconsistencias en los datos almacenados que pueden evitar el correcto procesamiento y análisis de estos. El ejemplo más común sería ver como los números en ocasiones son almacenados como strings y al momento de querer realizar una suma/promedio/agrupación los errores se van a hacer notar. \n",
        "\n",
        "¿Que más cambios podemos notar?\n",
        "\n",
        "El último cambio observable son las relaciones entre las entidades, en este modelo ya se especifica de forma más profunda la relación entre las entidades. Hay varias alternativas para identificar estas relaciones.\n",
        "\n",
        "One to one: Ej: Una persona tiene una sola fecha de nacimiento.\n",
        "\n",
        "One to many: Ej: Una tienda puede tener muchas compras, pero una compra solo tiene una tienda.\n",
        "\n",
        "Many to Many: Ej: Un cliente puede tener muchas direcciones y una dirección puede tener a muchos clientes.\n",
        "\n",
        "Con todo esto en mente, llegamos a un diagrama de relación de entidades que nos permite conocer los tipos de datos con los cuales vamos a tener que trabajar y como es la relación entre ellos. Después de trabajar en ello finalmente se puede llegar a pensar acerca de como y donde se va a almacenar la información. ¿Pero que pasa si en el futuro queremos agregar una nueva variable o propiedad, que tal si agregamos una nueva entidad? Nada nos detiene de saltarnos estos pasos y crear el servidor pero en teoría si deberíamos recrear todo el proceso nuevamente, no significa que debamos de borrar todo lo que hicimos pero si es importante modificarlo y seguir el proceso para ver si cambió algo de interés. "
      ]
    },
    {
      "cell_type": "markdown",
      "metadata": {
        "id": "Kios9pKz4FeF"
      },
      "source": [
        "# Ejercicio\n",
        "\n",
        "¿Vamos a tomarnos 10 minutos para estudiar el siguiente diagrama que representa un flujo de datos reducido de Amazon, que podemos entender del diagrama? Intentend describir por escrito las relaciones entre las siguientes entidades.\n",
        "\n",
        "<img src=\"img/amazon_customers.gif\"/>"
      ]
    },
    {
      "cell_type": "markdown",
      "metadata": {
        "id": "SQ4jZgnu4FeG"
      },
      "source": [
        "# La estructura de los datos\n",
        "Una vez que hemos pasado por el proceso de crear el modelo físico ya llega la hora de escoger el esquema bajo el cual vamos a almacenar los datos. Ojo que dije esquema y no tanto servidor ya que eso es una desición que se realizará analizando los costos y beneficios potenciales de comprar un servidor contra utilizar algo en la nube. En general los dos esquemas que más suenan son SQL (Structured Query Language) y NoSQL (Not only SQL); el modelo SQL se basa en el uso de tablas altamente estructuradas y ordenadas que se asemejan bastante a un excel o como vemos los Pandas en Python. Tenemos columnas que representan elementos o datos y renglones que representan observaciones; por lo tanto, todas las observaciones tienen el mismo número de elementos asociados a ellos. Viendo el diagrama anterior se le puede asignar a cada entidad su respectiva tabla, ya después se puede llamar a un conjunto de estas tablas para poder estudiar la información más a fondo.\n",
        "\n",
        "<img src=\"img/SQL.png\"/>\n",
        "\n",
        "\n",
        "Un ejemplo de datos que se puede implementar facilmente en SQL es un registro de transacciones; cada transacción tiene un emisor, un receptor, una cantidad y una fecha. Debido a que todos los elementos son muy similares entonces se pueden usar una o más tablas para representar toda la información. Por lo tanto; la ventaja de SQL es que la estructura rígida puede facilitar mucho la accessibilidad de los datos; asimismo, es un sistema que lleva vigente desde los 60's sin ser reemplazado por lo cual la comunidad y el soporte están muy bien fundamentados; sin embargo, tiene unas limitantes que surgen cuando la data es altamente no estructurada o se está llegando a un volumen de información muy grande.\n",
        "\n",
        "Por otra parte; NoSQL renuncia a la estructura por medio de tablas por lo cual también renuncia a varios de los beneficios de SQL; sin embargo, mucha información se encuentra guardad en este formato debido a que es fácil de procesar multiples requests lo que facilita su escalamiento. Los sensores e información proveniente de (Big Data) se maneja en este formato por lo cual su relevancia no puede ser ignorada. NoSQL sigue un formato libre (en este caso nos enfocamos en el modelo de documento) lo cual nos permite almacenar la información dentro de documentos json o en un formato anidado. \n",
        "\n",
        "## ¿Y que nos importa?\n",
        "Probablemente no estemos trabajando con un alto volumen de datos o a lo mejor no depende de nosotros tomar la decisión del esquema a utilizar, al final del día ambas tecnologías se pueden almacenar en un servidor y van a cumplir su función. Eso sería el caso ideal pero en muchos casos vamos a tener que hacer uso de fuentes de información ajenas y va a depender de nosotros poder interpretar su esquema y poder almacenarlo en el que nosotros deseemos. ¿Cual es la mayor fuente de información en el mundo?\n",
        "\n",
        "# Webscrapping, data semi-estructurada\n",
        "La definición de Webscrapping es la obtención y preprocesamiento de datos que se originan de internet; ahora, aunque tengamos acceso a mucha información por medio de preguntas, encuestas y bases de datos locales de la empresa; no podemos negar que la mayor fuente de información del mundo es el internet. Desde Amazon para un análisis del posicionamiento digital de la competencia, hasta la INEGI para realizar un estudio demográfico o obtener indicadores macroeconómicos; en la actualidad, casi todo se puede encontrar de una forma u otra en línea y muchas empresas e individuos están buscando aprovechar esto para hacer proyectos interesantes.\n",
        "\n",
        "## ¿Como se estructuran los elementos de una página web?\n",
        "Aunque la apariencia de una página web puede parecer ordenada al usuario; al entrar y ver el código se puede comenzar a ver que tan complicado puede llegar a ser el scrapping. Hay muchos elementos con diferentes jerarquías; elementos que contienen elementos dentro de otros elementos. Cuando hacemos Webscrapping en realidad estámos recuperando el código html de la página web por lo que es importante que sepamos navegarlo para recuperar la información que nos interesa. Este proceso no es fácil pero utilizando Python este se puede hacer un poco menos complicado.\n",
        "<img src=\"img/html.png\"/>\n",
        "<img src=\"img/dom-tree.png\" />\n",
        "\n",
        "Al contar con una estructura anidada; podemos ver que las páginas web no son relacionales debido a que cuentan con diferentes niveles y jerarquías para sus elementos. Aunque la representación relacional es posible; la no relacional termina siendo la más intuitiva en este caso."
      ]
    },
    {
      "cell_type": "markdown",
      "metadata": {
        "id": "-YrT76ZV4FeH"
      },
      "source": [
        "## La ética en la ciencia de datos\n",
        "Reuerden que sin importar de donde estemos adquiriendo la información, detrás de esos números se encuentran seres humanos como nosotros por lo cual es importante no solo cuidarla sino darle un uso apropiado. Actualmente no hay leyes tan fuertes en cuanto al uso y venta de información; sin embargo, solo por que la ley no lo prohibe explicitamente no significa que podemos hacer lo que queramos con la información. Ya hay casos muy sonados de recollección y venta de información de grandes empresas como Facebook y Google; sin embargo, estos casos pueden terminar sin \n",
        "\n",
        "Consejos de la ética.\n",
        "\n",
        "1. Conoce los derechos legales y humanos, respétalos. \n",
        "2. Nuestra aplicación permite la rendición de cuentas.\n",
        "3. La información puede ser abierta, pero eso no significa que esta sea libre de uso para cualquier aplicación. \n",
        "4. Mantén la privacidad del usuario; no permitas que en alguna parte del proceso se filtre la información personal de este. \n",
        "5. La información siempre tiene un fin, establecelos claramente en el aviso de privacidad.\n",
        "6. Piensa en como estás introduciendo sesgo en tu análisis y como este puede afectar a los demás.\n",
        "7. En resumen; no solo pienses en el bien de la empresa, accionistas o inclusive los clientes. Piensa en las consecuencias que tiene para todos.\n"
      ]
    },
    {
      "cell_type": "markdown",
      "metadata": {
        "id": "R7jnbscL4FeI"
      },
      "source": [
        "# Ahora a programar!\n",
        "\n",
        "## Requests\n",
        "Cuando queremos acceder a una página de internet nosotros tecleamos la dirección en el navegador; después, nuestro navegador hace una petición al servidor para recibir la información acerca de la página a la que queremos acceder. Un request es una petición para entrar a la página de nuestro interés; ahora que se hace un request a la página se debe de decidir el método que se va a realizar.\n",
        "\n",
        "Lo primero que podemos hacer es obtener la información, esto se hace con el get. Es una solicitud para recuperar el código de la página de internet. Esté método se puede utilizar en python importando el paquete de requests; al correr el método dir sobre el objeto request podemos obtener una lista que nos dice la información y las etiquetas de la página que podemos acceder.\n"
      ]
    },
    {
      "cell_type": "code",
      "execution_count": null,
      "metadata": {
        "id": "Q2AFhz_U4FeJ"
      },
      "outputs": [],
      "source": [
        "import requests\n",
        "page = requests.get('http://www.amazon.com')\n",
        "#dir(page)"
      ]
    },
    {
      "cell_type": "markdown",
      "metadata": {
        "id": "iCwRr78w4FeM"
      },
      "source": [
        "Como podemos ver, recuperamos un objeto muy grande que puede tener mucha información pero esta no se encuentra tan a la vista como lo puede ser en un documento word. Si queremos acceder a esta información tenemos que utilizar la notación de Python de .objeto."
      ]
    },
    {
      "cell_type": "code",
      "execution_count": null,
      "metadata": {
        "id": "YWYZJulO4FeN",
        "outputId": "f633e43b-c509-4943-d0d3-1d773e53f57e"
      },
      "outputs": [
        {
          "name": "stdout",
          "output_type": "stream",
          "text": [
            "https://www.amazon.com/ <PreparedRequest [GET]> ISO-8859-1\n"
          ]
        }
      ],
      "source": [
        "print(page.url, page.request, page.encoding)"
      ]
    },
    {
      "cell_type": "markdown",
      "metadata": {
        "id": "aoYRES1v4FeP"
      },
      "source": [
        "Aunque si vemos la página, podemos ver que no tenemos los permisos apropiados para scrapear amazon y nos regresa un mensaje automatizado para poder scrapearla con su permiso. Muchos sitios web tienen en pie este tipo de restricciones por lo que es importante investigar antes de tiempo cuales sitios soportan el scrapping."
      ]
    },
    {
      "cell_type": "code",
      "execution_count": null,
      "metadata": {
        "id": "4OfWy6hB4FeQ",
        "outputId": "2a623f76-c097-466c-d2bd-60dd9af288d3"
      },
      "outputs": [
        {
          "data": {
            "text/plain": [
              "'<!--\\n        To discuss automated access to Amazon data please contact api-services-support@amazon.com.\\n        For information about migrating to our APIs refer to our Marketplace APIs at https://developer.amazonservices.com/ref=rm_5_sv, or our Product Advertising API at https://affiliate-program.amazon.com/gp/advertising/api/detail/main.html/ref=rm_5_ac for advertising use cases.\\n-->\\n<!doctype html>\\n<html>\\n<head>\\n  <meta charset=\"utf-8\">\\n  <meta http-equiv=\"x-ua-compatible\" content=\"ie=edge\">\\n  <meta name=\"viewport\" content=\"width=device-width, initial-scale=1, shrink-to-fit=no\">\\n  <title>Sorry! Something went wrong!</title>\\n  <style>\\n  html, body {\\n    padding: 0;\\n    margin: 0\\n  }\\n\\n  img {\\n    border: 0\\n  }\\n\\n  #a {\\n    background: #232f3e;\\n    padding: 11px 11px 11px 192px\\n  }\\n\\n  #b {\\n    position: absolute;\\n    left: 22px;\\n    top: 12px\\n  }\\n\\n  #c {\\n    position: relative;\\n    max-width: 800px;\\n    padding: 0 40px 0 0\\n  }\\n\\n  #e, #f {\\n    height: 35px;\\n    border: 0;\\n    font-size: 1em\\n  }\\n\\n  #e {\\n    width: 100%;\\n    margin: 0;\\n    padding: 0 10px;\\n    border-radius: 4px 0 0 4px\\n  }\\n\\n  #f {\\n    cursor: pointer;\\n    background: #febd69;\\n    font-weight: bold;\\n    border-radius: 0 4px 4px 0;\\n    -webkit-appearance: none;\\n    position: absolute;\\n    top: 0;\\n    right: 0;\\n    padding: 0 12px\\n  }\\n\\n  @media (max-width: 500px) {\\n    #a {\\n      padding: 55px 10px 10px\\n    }\\n\\n    #b {\\n      left: 6px\\n    }\\n  }\\n\\n  #g {\\n    text-align: center;\\n    margin: 30px 0\\n  }\\n\\n  #g img {\\n    max-width: 90%\\n  }\\n\\n  #d {\\n    display: none\\n  }\\n\\n  #d[src] {\\n    display: inline\\n  }\\n  </style>\\n</head>\\n<body>\\n    <a href=\"/ref=cs_503_logo\"><img id=\"b\" src=\"https://images-na.ssl-images-amazon.com/images/G/01/error/logo._TTD_.png\" alt=\"Amazon.com\"></a>\\n    <form id=\"a\" accept-charset=\"utf-8\" action=\"/s\" method=\"GET\" role=\"search\">\\n        <div id=\"c\">\\n            <input id=\"e\" name=\"field-keywords\" placeholder=\"Search\">\\n            <input name=\"ref\" type=\"hidden\" value=\"cs_503_search\">\\n            <input id=\"f\" type=\"submit\" value=\"Go\">\\n        </div>\\n    </form>\\n<div id=\"g\">\\n  <div><a href=\"/ref=cs_503_link\"><img src=\"https://images-na.ssl-images-amazon.com/images/G/01/error/500_503.png\"\\n                                        alt=\"Sorry! Something went wrong on our end. Please go back and try again or go to Amazon\\'s home page.\"></a>\\n  </div>\\n  <a href=\"/dogsofamazon/ref=cs_503_d\" target=\"_blank\" rel=\"noopener noreferrer\"><img id=\"d\" alt=\"Dogs of Amazon\"></a>\\n  <script>document.getElementById(\"d\").src = \"https://images-na.ssl-images-amazon.com/images/G/01/error/\" + (Math.floor(Math.random() * 43) + 1) + \"._TTD_.jpg\";</script>\\n</div>\\n</body>\\n</html>\\n'"
            ]
          },
          "execution_count": 6,
          "metadata": {},
          "output_type": "execute_result"
        }
      ],
      "source": [
        "page.text"
      ]
    },
    {
      "cell_type": "markdown",
      "metadata": {
        "id": "LEdjWJXk4FeR"
      },
      "source": [
        "Otra opción es publicar información; ya sea crearla o actualizarla. Esto se hace por medio del método post (sigue siendo un request); con esta se manda una petición a un sitio web de práctica para agregar información al segmento de form. "
      ]
    },
    {
      "cell_type": "code",
      "execution_count": null,
      "metadata": {
        "id": "GBcfUhty4FeS",
        "outputId": "c9a74b73-5fb1-40a2-88ff-3e293c70bcbe"
      },
      "outputs": [
        {
          "data": {
            "text/plain": [
              "b'{\\n  \"args\": {}, \\n  \"data\": \"\", \\n  \"files\": {}, \\n  \"form\": {\\n    \"Nombre\": \"Yo\"\\n  }, \\n  \"headers\": {\\n    \"Accept\": \"*/*\", \\n    \"Accept-Encoding\": \"gzip, deflate\", \\n    \"Content-Length\": \"9\", \\n    \"Content-Type\": \"application/x-www-form-urlencoded\", \\n    \"Host\": \"httpbin.org\", \\n    \"User-Agent\": \"python-requests/2.21.0\", \\n    \"X-Amzn-Trace-Id\": \"Root=1-5e54741a-498378f71833b0e8675370af\"\\n  }, \\n  \"json\": null, \\n  \"origin\": \"177.244.40.210\", \\n  \"url\": \"http://httpbin.org/post\"\\n}\\n'"
            ]
          },
          "execution_count": 7,
          "metadata": {},
          "output_type": "execute_result"
        }
      ],
      "source": [
        "r = requests.post('http://httpbin.org/post', \n",
        "                  data = {'Nombre':'Yo'})\n",
        "r.content"
      ]
    },
    {
      "cell_type": "markdown",
      "metadata": {
        "id": "zV9UqZWF4FeT"
      },
      "source": [
        "Regresando al método get; nosotros podemos utilizar ciertas funciones para manipular de forma específica a donde queremos entrar de la página. En ciertos casos esto se usa para accedar a funciones específicas dentro de una API; por lo tanto, se establece una llave y un valor el cual se incluye dentro de la dirección web de la siguiente forma."
      ]
    },
    {
      "cell_type": "code",
      "execution_count": null,
      "metadata": {
        "id": "ZAs1avUm4FeT",
        "outputId": "e955f8ed-484b-42f6-f27a-8ac6316535e6"
      },
      "outputs": [
        {
          "name": "stdout",
          "output_type": "stream",
          "text": [
            "http://httpbin.org/get?key1=value1&key2=value2&key2=value3\n"
          ]
        }
      ],
      "source": [
        "payload = {'key1': 'value1', \n",
        "           'key2': ['value2', 'value3']}\n",
        "r = requests.get('http://httpbin.org/get', params=payload)\n",
        "print(r.url)"
      ]
    },
    {
      "cell_type": "markdown",
      "metadata": {
        "id": "06KFcOly4FeU"
      },
      "source": [
        "También podemos mandar solicitudes para borrar información o solamente probar la respuesta del servidor; estos son los métodos delete y head. Para scrapping no los usaremos mucho ya que en si no queremos modificar la información del documento sino queremos extraerla. Aunque en caso de querer hacerlo debemos de contar con los permisos correspondientes ya que la misma página tiene que poner restricciones para evitar que cualquier persona modifique la página a voluntad."
      ]
    },
    {
      "cell_type": "markdown",
      "metadata": {
        "id": "zGbBZdeX4FeU"
      },
      "source": [
        "# BeautifulSoup4\n",
        "Ahora; los nombres de los paquetes de Python muchas veces se basan en obras de la cultura popular. Esto surge de Alicia en el país de las maravillas debido a las personas que hacen el programa se reservan los derechos de nombrarlo. Ahora bien; esta libreria es muy similar a la de requests ya que podemos hacer los requests tradicionales; pero la diferencia está en que con este paquete ustedes pueden navegar la estructura de la pagina web con mucha mayor facilidad que utilizando Python vanilla. Esto nos permite extraer la información de la página web y utilizarla para nuestras propias cuestiones."
      ]
    },
    {
      "cell_type": "code",
      "execution_count": null,
      "metadata": {
        "id": "rY-WuYia4FeV"
      },
      "outputs": [],
      "source": [
        "from bs4 import BeautifulSoup\n",
        "import pandas as pd"
      ]
    },
    {
      "cell_type": "code",
      "execution_count": null,
      "metadata": {
        "id": "9Ey_AKEZ4FeV",
        "outputId": "8db3a2a6-1782-45ea-c0b5-f46163596e33"
      },
      "outputs": [
        {
          "data": {
            "text/plain": [
              "['ASCII_SPACES',\n",
              " 'DEFAULT_BUILDER_FEATURES',\n",
              " 'HTML_FORMATTERS',\n",
              " 'NO_PARSER_SPECIFIED_WARNING',\n",
              " 'ROOT_TAG_NAME',\n",
              " 'XML_FORMATTERS',\n",
              " '__bool__',\n",
              " '__call__',\n",
              " '__class__',\n",
              " '__contains__',\n",
              " '__copy__',\n",
              " '__delattr__',\n",
              " '__delitem__',\n",
              " '__dict__',\n",
              " '__dir__',\n",
              " '__doc__',\n",
              " '__eq__',\n",
              " '__format__',\n",
              " '__ge__',\n",
              " '__getattr__']"
            ]
          },
          "execution_count": 10,
          "metadata": {},
          "output_type": "execute_result"
        }
      ],
      "source": [
        "URL = 'https://www.milenio.com'\n",
        "URL = BeautifulSoup(requests.get(URL).text, \"lxml\")\n",
        "dir(URL)[:20]"
      ]
    },
    {
      "cell_type": "markdown",
      "metadata": {
        "id": "bTWKmQgW4FeW"
      },
      "source": [
        "Este objeto no es un código html, es lo que se le conoce como una sopa (tiene muchos ingredientes pero los tenemos bien catalogados). Con estos comandos podemos reobtener parámetros interesantes como con el método de requests pero en este caso podemos explorar muchas cosas más."
      ]
    },
    {
      "cell_type": "code",
      "execution_count": null,
      "metadata": {
        "id": "28g7n3NN4FeW",
        "outputId": "9b2ffdcd-1626-46c3-da43-359f2c520f55"
      },
      "outputs": [
        {
          "name": "stdout",
          "output_type": "stream",
          "text": [
            "<title>Milenio: Últimas Noticias de México y el mundo - Grupo Milenio</title> title Milenio: Últimas Noticias de México y el mundo - Grupo Milenio\n"
          ]
        }
      ],
      "source": [
        "print(URL.title, URL.title.name, URL.title.string)"
      ]
    },
    {
      "cell_type": "markdown",
      "metadata": {
        "id": "gk-A-AbD4FeX"
      },
      "source": [
        "El método de find_all nos permite buscar el tag del renglón incluyendo el texto y las demás propiedades."
      ]
    },
    {
      "cell_type": "code",
      "execution_count": null,
      "metadata": {
        "id": "OloNn0cw4FeX",
        "outputId": "b24f92f5-df9a-4afa-8a78-bd4c5d9b2263"
      },
      "outputs": [
        {
          "data": {
            "text/plain": [
              "[<a href=\"/cdmx\">CDMX</a>,\n",
              " <a href=\"/monterrey\">Monterrey</a>,\n",
              " <a href=\"/jalisco\">Jalisco</a>,\n",
              " <a href=\"/estado-de-mexico\">Estado de México</a>,\n",
              " <a href=\"/laguna\">Laguna</a>,\n",
              " <a href=\"/tamaulipas\">Tamaulipas</a>,\n",
              " <a href=\"/leon\">León</a>,\n",
              " <a href=\"/puebla\">Puebla</a>,\n",
              " <a href=\"/hidalgo\">Hidalgo</a>,\n",
              " <a href=\"/impreso\">Impreso</a>,\n",
              " <a href=\"/mileniotv\">Televisión</a>,\n",
              " <a href=\"/\"><img alt=\"logo-milenio\" class=\"main-logo\" src=\"/bundles/camusassets/images/logo-milenio-v2.png\"/></a>,\n",
              " <a href=\"/opinion\">Opinión</a>,\n",
              " <a href=\"/ultima-hora\">Última Hora</a>,\n",
              " <a href=\"/politica\">Política</a>,\n",
              " <a href=\"/estados\">Estados</a>,\n",
              " <a href=\"/policia\">Policía</a>,\n",
              " <a href=\"/negocios\">Negocios</a>,\n",
              " <a href=\"/internacional\">Mundo</a>,\n",
              " <a href=\"/estilo\">Estilo</a>,\n",
              " <a href=\"/cultura\">Cultura</a>,\n",
              " <a href=\"/espectaculos\">Hey</a>,\n",
              " <a href=\"/deportes\">La Afición</a>,\n",
              " <a href=\"/milenio-foros\">Foros</a>,\n",
              " <a href=\"/mileniovr\">VR360</a>,\n",
              " <a href=\"/virales\">Virales</a>,\n",
              " <a href=\"/content\">InBrand</a>,\n",
              " <a href=\"/especiales\">Especiales</a>,\n",
              " <a href=\"/cultura/laberinto\">Laberinto</a>,\n",
              " <a href=\"/fotogalerias\">Fotogalerías</a>,\n",
              " <a href=\"/temas/donald-trump\">Donald Trump</a>,\n",
              " <a href=\"/temas/amlo\">AMLO</a>,\n",
              " <a href=\"/temas/emilio-lozoya\">Emilio Lozoya</a>,\n",
              " <a href=\"/temas/coronavirus\">Coronavirus</a>,\n",
              " <a href=\"/temas/violencia-de-genero\">Violencia de Género</a>,\n",
              " <a href=\"/temas/ingrid-escamilla\">Ingrid Escamilla</a>,\n",
              " <a href=\"/temas/caso-fatima\">caso Fátima</a>,\n",
              " <a href=\"/opinion\">\n",
              " <li class=\"father\">Opinión Nacional\n",
              " \t\t\t\t\t\t\t</li>\n",
              " </a>,\n",
              " <a href=\"/opinion\">Nacional</a>,\n",
              " <a href=\"/opinion/monterrey\">Monterrey</a>,\n",
              " <a href=\"/opinion/jalisco\">Jalisco</a>,\n",
              " <a href=\"/opinion/tamaulipas\">Tamaulipas</a>,\n",
              " <a href=\"/opinion/laguna\">Laguna</a>,\n",
              " <a href=\"/opinion/edomex\">Estado de México</a>,\n",
              " <a href=\"/opinion/puebla\">Puebla</a>,\n",
              " <a href=\"/opinion/leon\">León</a>,\n",
              " <a href=\"/opinion/hidalgo\">Hidalgo</a>,\n",
              " <a href=\"/opinion/moneros\">Moneros</a>,\n",
              " <a href=\"/ultima-hora\">\n",
              " <li class=\"father\">Última Hora\n",
              " \t\t\t\t\t\t\t</li>\n",
              " </a>,\n",
              " <a href=\"/impreso\">\n",
              " <li class=\"father\">Impreso\n",
              " \t\t\t\t\t\t\t</li>\n",
              " </a>,\n",
              " <a href=\"/politica\">\n",
              " <li class=\"father\">Política\n",
              " \t\t\t\t\t\t\t</li>\n",
              " </a>,\n",
              " <a href=\"/politica/comunidad\">Comunidad</a>,\n",
              " <a href=\"/politica/congreso\">Congreso</a>,\n",
              " <a href=\"/politica/gobierno\">Gobierno</a>,\n",
              " <a href=\"/politica/organismos\">Organismos</a>,\n",
              " <a href=\"/politica/partidos\">Partidos</a>,\n",
              " <a href=\"\">\n",
              " <li class=\"father\">Ediciones\n",
              " \t\t\t\t\t\t\t</li>\n",
              " </a>,\n",
              " <a href=\"/cdmx\">CDMX</a>,\n",
              " <a href=\"/monterrey\">Monterrey</a>,\n",
              " <a href=\"/jalisco\">Jalisco</a>,\n",
              " <a href=\"/estado-de-mexico\">Estado de México</a>,\n",
              " <a href=\"/laguna\">Laguna</a>,\n",
              " <a href=\"/tamaulipas\">Tamaulipas</a>,\n",
              " <a href=\"/leon\">León</a>,\n",
              " <a href=\"/puebla\">Puebla</a>,\n",
              " <a href=\"/hidalgo\">Hidalgo</a>,\n",
              " <a href=\"/estados\">\n",
              " <li class=\"father\">Estados\n",
              " \t\t\t\t\t\t\t</li>\n",
              " </a>,\n",
              " <a href=\"/estados/mas-estados\">+ Estados</a>,\n",
              " <a href=\"/policia\">\n",
              " <li class=\"father\">Policía\n",
              " \t\t\t\t\t\t\t</li>\n",
              " </a>,\n",
              " <a href=\"/policia/violencia-genero\">Violencia de Género</a>,\n",
              " <a href=\"/policia/mas-policia\">+ Policía</a>,\n",
              " <a href=\"/negocios\">\n",
              " <li class=\"father\">Negocios\n",
              " \t\t\t\t\t\t\t</li>\n",
              " </a>,\n",
              " <a href=\"/negocios/emprendedores\">Emprendedores</a>,\n",
              " <a href=\"/negocios/financial-times\">Financial Times</a>,\n",
              " <a href=\"/negocios/finanzas-personales\">Finanzas Personales</a>,\n",
              " <a href=\"/negocios/godinez-millennials\">Godínez Millennials</a>,\n",
              " <a href=\"/negocios/mas-negocios\">+ Negocios</a>,\n",
              " <a href=\"/internacional\">\n",
              " <li class=\"father\">Mundo\n",
              " \t\t\t\t\t\t\t</li>\n",
              " </a>,\n",
              " <a href=\"/internacional/estados-unidos\">Estados Unidos</a>,\n",
              " <a href=\"/internacional/latinoamerica\">Latinoamérica</a>,\n",
              " <a href=\"/internacional/europa\">Europa</a>,\n",
              " <a href=\"/internacional/medio-oriente\">Medio Oriente</a>,\n",
              " <a href=\"/internacional/asia-oceania\">Asia y Oceanía</a>,\n",
              " <a href=\"/internacional/mas-internacional\">+ Mundo</a>,\n",
              " <a href=\"/estilo\">\n",
              " <li class=\"father\">Estilo\n",
              " \t\t\t\t\t\t\t</li>\n",
              " </a>,\n",
              " <a href=\"/estilo/gastronomia\">Gastronomía</a>,\n",
              " <a href=\"/estilo/viajes\">Viajes</a>,\n",
              " <a href=\"/estilo/tu-mascota\">Tu Mascota</a>,\n",
              " <a href=\"/estilo/mas-estilo\">+ Estilo</a>,\n",
              " <a href=\"/cultura\">\n",
              " <li class=\"father\">Cultura\n",
              " \t\t\t\t\t\t\t</li>\n",
              " </a>,\n",
              " <a href=\"/cultura/laberinto\">Laberinto</a>,\n",
              " <a href=\"/cultura/mas-cultura\">+ Cultura</a>,\n",
              " <a href=\"/espectaculos\">\n",
              " <li class=\"father\">Hey\n",
              " \t\t\t\t\t\t\t</li>\n",
              " </a>,\n",
              " <a href=\"/espectaculos/television\">Televisión</a>,\n",
              " <a href=\"/espectaculos/cine\">Cine</a>,\n",
              " <a href=\"/espectaculos/famosos\">Famosos</a>,\n",
              " <a href=\"/espectaculos/musica\">Música</a>,\n",
              " <a href=\"/espectaculos/teatro\">Teatro</a>,\n",
              " <a href=\"/espectaculos/mas-espectaculos\">+ Espectáculos</a>,\n",
              " <a href=\"/deportes\">\n",
              " <li class=\"father\">La Afición\n",
              " \t\t\t\t\t\t\t</li>\n",
              " </a>]"
            ]
          },
          "execution_count": 15,
          "metadata": {},
          "output_type": "execute_result"
        }
      ],
      "source": [
        "URL.find_all('a')[:100]"
      ]
    },
    {
      "cell_type": "markdown",
      "metadata": {
        "id": "CqIx5leV4FeX"
      },
      "source": [
        "Asimismo se pueden extraer los subenlaces que llevan a diferentes regiónes de la página."
      ]
    },
    {
      "cell_type": "code",
      "execution_count": null,
      "metadata": {
        "id": "wW_r0DCj4FeY",
        "outputId": "de7edc02-fcae-4ae1-a644-fe0c9893a656"
      },
      "outputs": [
        {
          "name": "stdout",
          "output_type": "stream",
          "text": [
            "['/cdmx', '/monterrey', '/jalisco', '/estado-de-mexico', '/laguna', '/tamaulipas', '/leon', '/puebla', '/hidalgo', '/impreso']\n"
          ]
        }
      ],
      "source": [
        "ref = [a['href'] for a in URL.find_all('a', href=True)]\n",
        "print(ref[:10])"
      ]
    },
    {
      "cell_type": "markdown",
      "metadata": {
        "id": "-V7I18rc4FeY"
      },
      "source": [
        "Si el renglón cuenta con una etiqueta y una clase, esta se puede especificar dentro del método junto con atributos como href. En el siguiente ejemplo accedemos a la etiqueta li y la clase father para extraer el primer elemento."
      ]
    },
    {
      "cell_type": "code",
      "execution_count": null,
      "metadata": {
        "id": "XPTYxoX64FeY",
        "outputId": "cb318f30-2d85-45be-de44-dcd9a78caf0a"
      },
      "outputs": [
        {
          "name": "stdout",
          "output_type": "stream",
          "text": [
            "[<li class=\"father\">Opinión Nacional\n",
            "\t\t\t\t\t\t\t</li>, <li class=\"father\">Última Hora\n",
            "\t\t\t\t\t\t\t</li>, <li class=\"father\">Impreso\n",
            "\t\t\t\t\t\t\t</li>, <li class=\"father\">Política\n",
            "\t\t\t\t\t\t\t</li>, <li class=\"father\">Ediciones\n",
            "\t\t\t\t\t\t\t</li>, <li class=\"father\">Estados\n",
            "\t\t\t\t\t\t\t</li>, <li class=\"father\">Policía\n",
            "\t\t\t\t\t\t\t</li>, <li class=\"father\">Negocios\n",
            "\t\t\t\t\t\t\t</li>, <li class=\"father\">Mundo\n",
            "\t\t\t\t\t\t\t</li>, <li class=\"father\">Estilo\n",
            "\t\t\t\t\t\t\t</li>]\n"
          ]
        }
      ],
      "source": [
        "lista = URL.find_all('li', \n",
        "                     class_='father')\n",
        "print(lista[:10])"
      ]
    },
    {
      "cell_type": "markdown",
      "metadata": {
        "id": "o1SSizU54FeZ"
      },
      "source": [
        "De esta lista podemos extraer el texto con el método get_text(). Usamos el método .strip() para quitar los espacios y tabs adicionales que puede tener el formato del texto."
      ]
    },
    {
      "cell_type": "code",
      "execution_count": null,
      "metadata": {
        "id": "jR6H-hqq4FeZ"
      },
      "outputs": [],
      "source": [
        "# Copiamos los resultados\n",
        "Categorias=[str(lista[i].get_text()).strip() \n",
        "            for i in range(0,len(lista)-1)]"
      ]
    },
    {
      "cell_type": "code",
      "execution_count": null,
      "metadata": {
        "id": "vsUaPViu4Fea",
        "outputId": "3c508511-14d9-4d90-9755-091efd0f9126"
      },
      "outputs": [
        {
          "name": "stdout",
          "output_type": "stream",
          "text": [
            "['Opinión Nacional', 'Última Hora', 'Impreso', 'Política', 'Ediciones', 'Estados', 'Policía', 'Negocios', 'Mundo', 'Estilo', 'Cultura', 'Hey', 'La Afición', 'Foros', 'Sustentable', 'Autos', 'Bienes Raíces', 'VR360', 'Virales', 'InBrand', 'Especiales', 'Laberinto', 'Fotogalerías', 'Aula', 'Tecnología', 'EN VIVO', 'Suscripciones', 'MILENIO CUPONES', 'Opinión Nacional', 'Última Hora', 'Impreso', 'Política', 'Ediciones', 'Estados', 'Policía', 'Negocios', 'Mundo', 'Estilo', 'Cultura', 'Hey', 'La Afición', 'Foros', 'Sustentable', 'Autos', 'Bienes Raíces', 'VR360', 'Virales', 'InBrand', 'Especiales', 'Laberinto', 'Fotogalerías', 'Aula', 'Tecnología', 'EN VIVO', 'Suscripciones']\n"
          ]
        }
      ],
      "source": [
        "print(Categorias)"
      ]
    },
    {
      "cell_type": "markdown",
      "metadata": {
        "id": "RNer_oec4Fea"
      },
      "source": [
        "Sin embargo; esto no nos quita las restricciones que nos ponen las página de internet por lo cual si intentamos importar walmart puede que el objeto cuente con diferentes categorías."
      ]
    },
    {
      "cell_type": "code",
      "execution_count": null,
      "metadata": {
        "id": "LTsSP5fm4Fea",
        "outputId": "9f9a6ba2-437e-4d3c-f2a2-778ba83fe290"
      },
      "outputs": [
        {
          "data": {
            "text/plain": [
              "['ASCII_SPACES',\n",
              " 'DEFAULT_BUILDER_FEATURES',\n",
              " 'HTML_FORMATTERS',\n",
              " 'NO_PARSER_SPECIFIED_WARNING',\n",
              " 'ROOT_TAG_NAME',\n",
              " 'XML_FORMATTERS',\n",
              " '__bool__',\n",
              " '__call__',\n",
              " '__class__',\n",
              " '__contains__']"
            ]
          },
          "execution_count": 28,
          "metadata": {},
          "output_type": "execute_result"
        }
      ],
      "source": [
        "URL1 = 'https://www.walmart.com.mx/computadoras/laptops'\n",
        "URL1 = BeautifulSoup(requests.get(URL1).text, \"lxml\")\n",
        "dir(URL1)[:10]"
      ]
    },
    {
      "cell_type": "markdown",
      "metadata": {
        "id": "gCrhkiYL4Feb"
      },
      "source": [
        "Pero al usar el método index... vemos que nuestro servidor no puede acceder a la página."
      ]
    },
    {
      "cell_type": "code",
      "execution_count": null,
      "metadata": {
        "id": "ghdn1man4Feb",
        "outputId": "c6b2c219-bd2e-4aa7-c014-88486089f4cb"
      },
      "outputs": [
        {
          "data": {
            "text/plain": [
              "<bound method Tag.index of <html><head>\n",
              "<title>Access Denied</title>\n",
              "</head><body>\n",
              "<h1>Access Denied</h1>\n",
              " \n",
              "You don't have permission to access \"http://www.walmart.com.mx/computadoras/laptops\" on this server.<p>\n",
              "Reference #18.24b72d17.1582594010.26194c72\n",
              "</p></body>\n",
              "</html>\n",
              ">"
            ]
          },
          "execution_count": 29,
          "metadata": {},
          "output_type": "execute_result"
        }
      ],
      "source": [
        "URL1.index"
      ]
    },
    {
      "cell_type": "markdown",
      "metadata": {
        "id": "0prvVvT44Feb"
      },
      "source": [
        "## Ejercicio!\n",
        "Entra a un departamento de tu preferencia en la página de Soriana (Repostería, Celulares, etc). Obten los siguientes datos de un producto.\n",
        "\n",
        "-  Nombre del Producto\n",
        "-  Precio actual\n",
        "\n",
        "Una vez que lo tengas, encuentra una forma de extraer esos datos para los primeros 3 productos usando un ciclo."
      ]
    },
    {
      "cell_type": "code",
      "execution_count": null,
      "metadata": {
        "id": "dj5ALeCf4Fec"
      },
      "outputs": [],
      "source": []
    }
  ],
  "metadata": {
    "kernelspec": {
      "display_name": "Python 3",
      "language": "python",
      "name": "python3"
    },
    "language_info": {
      "codemirror_mode": {
        "name": "ipython",
        "version": 3
      },
      "file_extension": ".py",
      "mimetype": "text/x-python",
      "name": "python",
      "nbconvert_exporter": "python",
      "pygments_lexer": "ipython3",
      "version": "3.7.3"
    },
    "colab": {
      "provenance": [],
      "include_colab_link": true
    }
  },
  "nbformat": 4,
  "nbformat_minor": 0
}